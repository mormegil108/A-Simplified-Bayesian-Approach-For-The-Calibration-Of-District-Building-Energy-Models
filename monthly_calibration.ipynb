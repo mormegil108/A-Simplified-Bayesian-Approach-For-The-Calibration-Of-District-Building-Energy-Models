{
 "cells": [
  {
   "cell_type": "markdown",
   "id": "9b3ed04b",
   "metadata": {},
   "source": [
    "# Bayesian Optimization: Dormitory"
   ]
  },
  {
   "cell_type": "code",
   "execution_count": null,
   "id": "490e3446",
   "metadata": {},
   "outputs": [],
   "source": [
    "import pandas as pd\n",
    "import numpy as np\n",
    "import matplotlib.pyplot as plt\n",
    "import seaborn as sns\n",
    "from scipy.stats import norm\n",
    "import os\n",
    "from sklearn.preprocessing import StandardScaler, MinMaxScaler\n",
    "from sklearn.model_selection import train_test_split, cross_validate, GridSearchCV\n",
    "from sklearn.linear_model import LogisticRegression\n",
    "from sklearn.naive_bayes import GaussianNB\n",
    "from sklearn.metrics import classification_report, f1_score, precision_score, confusion_matrix, ConfusionMatrixDisplay\n",
    "%matplotlib inline"
   ]
  },
  {
   "cell_type": "code",
   "execution_count": null,
   "id": "d5a7217a",
   "metadata": {},
   "outputs": [],
   "source": [
    "data_directory = r\"Local Directory\"\n",
    "mydf = pd.read_csv(os.path.join(data_directory, \"optimization_results.csv\"))\n",
    "mydf = mydf.drop(columns=\"Unnamed: 0\")\n",
    "mydf.head()"
   ]
  },
  {
   "cell_type": "code",
   "execution_count": null,
   "id": "dfb098ae",
   "metadata": {},
   "outputs": [],
   "source": []
  },
  {
   "cell_type": "code",
   "execution_count": null,
   "id": "e9cc17c7",
   "metadata": {},
   "outputs": [],
   "source": []
  },
  {
   "cell_type": "markdown",
   "id": "585c7374",
   "metadata": {},
   "source": [
    "# Baseline Combo"
   ]
  },
  {
   "cell_type": "code",
   "execution_count": null,
   "id": "62b7e41f",
   "metadata": {},
   "outputs": [],
   "source": [
    "baseline_id = \"S1563\"\n",
    "baseline_combo = mydf[mydf[\"Scenario\"]==baseline_id]\n",
    "baseline_combo"
   ]
  },
  {
   "cell_type": "markdown",
   "id": "f8e7caf6",
   "metadata": {},
   "source": [
    "# Choosing the best parameter combination"
   ]
  },
  {
   "cell_type": "markdown",
   "id": "d0a74d05",
   "metadata": {},
   "source": [
    "# 1) Deterministic Calibration"
   ]
  },
  {
   "cell_type": "markdown",
   "id": "d29c8d58",
   "metadata": {},
   "source": [
    "Choose the scenario with the least error."
   ]
  },
  {
   "cell_type": "code",
   "execution_count": null,
   "id": "23a81676",
   "metadata": {},
   "outputs": [],
   "source": [
    "mydf.sort_values(by=\"TOE_CV-RMSE\", ascending=True)[:10]"
   ]
  },
  {
   "cell_type": "code",
   "execution_count": null,
   "id": "89adb7df",
   "metadata": {},
   "outputs": [],
   "source": []
  },
  {
   "cell_type": "code",
   "execution_count": null,
   "id": "8d7688a4",
   "metadata": {},
   "outputs": [],
   "source": []
  },
  {
   "cell_type": "markdown",
   "id": "85a2240c",
   "metadata": {},
   "source": [
    "# 2) Probabilistic Calibration: Naive Bayes Classifier"
   ]
  },
  {
   "cell_type": "markdown",
   "id": "21f270be",
   "metadata": {},
   "source": [
    "Label scenarios based on TOE_CV-RMSE"
   ]
  },
  {
   "cell_type": "code",
   "execution_count": null,
   "id": "8e11287e",
   "metadata": {},
   "outputs": [],
   "source": [
    "data = mydf.copy()\n",
    "\n",
    "# Define a random error rate for the decision boundary\n",
    "decision_boundary = 0.155\n",
    "\n",
    "# Label scenarios based on the CV-RMSE and the decision boundary\n",
    "for i in range(data.shape[0]):\n",
    "    \n",
    "    if data.loc[i, \"TOE_CV-RMSE\"] < decision_boundary:\n",
    "        data.loc[i, \"Label\"] = 1\n",
    "    else:\n",
    "        data.loc[i, \"Label\"] = 0\n",
    "        \n",
    "data[\"Label\"].value_counts()"
   ]
  },
  {
   "cell_type": "code",
   "execution_count": null,
   "id": "c958209f",
   "metadata": {},
   "outputs": [],
   "source": [
    "necessary_columns = [\n",
    "    'Scenario', 'dhw_flow_rate', 'equipment_density', \n",
    "    'heating_set_point', 'infiltration', 'lighting_density',\n",
    "    'TOE_CV-RMSE', 'TOE_MAPE', 'Label',\n",
    "]\n",
    "\n",
    "new_df = data[necessary_columns]\n",
    "new_df.head()"
   ]
  },
  {
   "cell_type": "markdown",
   "id": "c2c76fb2",
   "metadata": {},
   "source": [
    "## 2.1) Choosing from available scenarios"
   ]
  },
  {
   "cell_type": "code",
   "execution_count": null,
   "id": "0eacd5cc",
   "metadata": {},
   "outputs": [],
   "source": [
    "# Scale data\n",
    "X = new_df.drop(columns=[\"Scenario\", \"TOE_CV-RMSE\", \"TOE_MAPE\", \"Label\"])\n",
    "y = new_df[\"Label\"].values\n",
    "\n",
    "scaler = StandardScaler()\n",
    "X_scaled = scaler.fit_transform(X)\n",
    "\n",
    "bayes = GaussianNB()\n",
    "bayes.fit(X_scaled, y)\n",
    "preds = bayes.predict(X_scaled)\n",
    "\n",
    "# Count occurrences of 1 and 0 in preds\n",
    "counts = np.bincount(preds.astype(int))\n",
    "# Print counts\n",
    "print(\"Counts of 0:\", counts[0])\n",
    "print(\"Counts of 1:\", counts[1])\n",
    "\n",
    "print(\"\\n\", classification_report(y, preds))"
   ]
  },
  {
   "cell_type": "code",
   "execution_count": null,
   "id": "454a1ce3",
   "metadata": {},
   "outputs": [],
   "source": [
    "fig, ax = plt.subplots(figsize=(6, 6), dpi=150)\n",
    "labels = [1, 0]\n",
    "cm = confusion_matrix(y, preds, labels=labels)\n",
    "disp = ConfusionMatrixDisplay(confusion_matrix=cm, display_labels=labels)\n",
    "\n",
    "# Increase text size for labels and tick labels\n",
    "disp.plot(ax=ax, xticks_rotation='horizontal', cmap='viridis')\n",
    "ax.tick_params(axis='both', which='major', labelsize=12)\n",
    "ax.set_xlabel('Predicted Label', fontsize=14)  \n",
    "ax.set_ylabel('True Label', fontsize=14) \n",
    "plt.show()"
   ]
  },
  {
   "cell_type": "code",
   "execution_count": null,
   "id": "098590f2",
   "metadata": {},
   "outputs": [],
   "source": [
    "# Scenario probabilitites\n",
    "proba_df = pd.DataFrame(bayes.predict_proba(X_scaled), columns=['Probability_Class_0', 'Probability_Class_1'])\n",
    "result_df = pd.concat([new_df.reset_index(drop=True), proba_df], axis=1)\n",
    "sorted_df = result_df.sort_values(by=\"Probability_Class_1\", ascending=False)\n",
    "sorted_df.head(10)"
   ]
  },
  {
   "cell_type": "code",
   "execution_count": null,
   "id": "480de7fc",
   "metadata": {},
   "outputs": [],
   "source": []
  },
  {
   "cell_type": "code",
   "execution_count": null,
   "id": "c47ab4b6",
   "metadata": {},
   "outputs": [],
   "source": []
  },
  {
   "cell_type": "markdown",
   "id": "644b6f40",
   "metadata": {},
   "source": [
    "# 2.2.) Parametric estimation: mean and variance"
   ]
  },
  {
   "cell_type": "code",
   "execution_count": null,
   "id": "d58b56ba",
   "metadata": {},
   "outputs": [],
   "source": [
    "# Expected mean and variances for each parameter: Label==0\n",
    "print(\"LABEL==0 >>>\")\n",
    "param_list = X.columns\n",
    "for i in range(len(mean_list[0])):\n",
    "    mean = mean_list[0][i]\n",
    "    variance = var_list[0][i]\n",
    "\n",
    "    # Create a normal distribution for the current parameter\n",
    "    dist = norm(loc=mean, scale=np.sqrt(variance))\n",
    "\n",
    "    # Calculate the expected value (mean) for the current parameter\n",
    "    expected_value = dist.mean()\n",
    "    \n",
    "    if param_list[i] == \"dhw_flow_rate\":\n",
    "        print(f\"Expected value (mean) for Parameter {param_list[i]}: {expected_value}\")\n",
    "    else:\n",
    "        print(f\"Expected value (mean) for Parameter {param_list[i]}: {expected_value:.3f}\")\n",
    "        \n",
    "# Expected mean and variances for each parameter: Label==1\n",
    "print(\"\\nLABEL==1 >>>\")\n",
    "for i in range(len(mean_list[1])):\n",
    "    mean = mean_list[1][i]\n",
    "    variance = var_list[1][i]\n",
    "\n",
    "    # Create a normal distribution for the current parameter\n",
    "    dist = norm(loc=mean, scale=np.sqrt(variance))\n",
    "\n",
    "    # Calculate the expected value (mean) for the current parameter\n",
    "    expected_value = dist.mean()\n",
    "    \n",
    "    if param_list[i] == \"dhw_flow_rate\":\n",
    "        print(f\"Expected value (mean) for Parameter {param_list[i]}: {expected_value}\")\n",
    "    else:\n",
    "        print(f\"Expected value (mean) for Parameter {param_list[i]}: {expected_value:.3f}\")"
   ]
  },
  {
   "cell_type": "code",
   "execution_count": null,
   "id": "685e9975",
   "metadata": {},
   "outputs": [],
   "source": []
  },
  {
   "cell_type": "code",
   "execution_count": null,
   "id": "daa298a6",
   "metadata": {},
   "outputs": [],
   "source": []
  },
  {
   "cell_type": "markdown",
   "id": "060b9ed6",
   "metadata": {},
   "source": [
    "# Discussion: Imbalanced Data"
   ]
  },
  {
   "cell_type": "code",
   "execution_count": null,
   "id": "99884447",
   "metadata": {},
   "outputs": [],
   "source": [
    "new_df[\"Label\"].value_counts()"
   ]
  },
  {
   "cell_type": "code",
   "execution_count": null,
   "id": "5a44192d",
   "metadata": {},
   "outputs": [],
   "source": [
    "percentile_list = [0.05, 0.10, 0.15, 0.25, 0.50, 0.75, 0.95]\n",
    "new_df[\"TOE_CV-RMSE\"].describe(percentiles=percentile_list)"
   ]
  },
  {
   "cell_type": "code",
   "execution_count": null,
   "id": "b2af6eec",
   "metadata": {},
   "outputs": [],
   "source": [
    "import matplotlib.pyplot as plt\n",
    "import seaborn as sns\n",
    "from scipy import stats\n",
    "\n",
    "# Create a kernel density estimate plot (PDF) for the \"TOE_CV-RMSE\" column\n",
    "plt.figure(figsize=(8, 4), dpi=150)\n",
    "sns.kdeplot(new_df[\"TOE_CV-RMSE\"], fill=True)\n",
    "\n",
    "# Plot a red dashed line for the Xth percentile corresponding to 0.15 kWh\n",
    "decision_boundary = 0.15\n",
    "percentile_x = stats.percentileofscore(new_df[\"TOE_CV-RMSE\"], decision_boundary)\n",
    "plt.axvline(decision_boundary, color='red', linestyle='--', label=f'{percentile_x:.0f}th Percentile: {decision_boundary}')\n",
    "\n",
    "plt.xlabel(\"TOE CV-RMSE\")\n",
    "plt.ylabel(\"Density\")\n",
    "#plt.title(\"Probability Density Function (PDF) of TOE_CV-RMSE\")\n",
    "plt.legend()\n",
    "plt.grid(False)\n",
    "plt.show()"
   ]
  },
  {
   "cell_type": "code",
   "execution_count": null,
   "id": "4592c036",
   "metadata": {},
   "outputs": [],
   "source": []
  },
  {
   "cell_type": "code",
   "execution_count": null,
   "id": "5fe86a6f",
   "metadata": {},
   "outputs": [],
   "source": []
  },
  {
   "cell_type": "markdown",
   "id": "ea399926",
   "metadata": {},
   "source": [
    "# END"
   ]
  }
 ],
 "metadata": {
  "kernelspec": {
   "display_name": "Python 3 (ipykernel)",
   "language": "python",
   "name": "python3"
  },
  "language_info": {
   "codemirror_mode": {
    "name": "ipython",
    "version": 3
   },
   "file_extension": ".py",
   "mimetype": "text/x-python",
   "name": "python",
   "nbconvert_exporter": "python",
   "pygments_lexer": "ipython3",
   "version": "3.7.16"
  }
 },
 "nbformat": 4,
 "nbformat_minor": 5
}
