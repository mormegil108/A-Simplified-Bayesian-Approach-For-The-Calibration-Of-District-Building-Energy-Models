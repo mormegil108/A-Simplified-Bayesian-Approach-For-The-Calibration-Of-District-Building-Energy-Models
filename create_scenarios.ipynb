{
 "cells": [
  {
   "cell_type": "markdown",
   "id": "dd52a65d",
   "metadata": {},
   "source": [
    "# EC3 2024"
   ]
  },
  {
   "cell_type": "code",
   "execution_count": null,
   "id": "7318e3c2",
   "metadata": {},
   "outputs": [],
   "source": [
    "from archetypal import UmiTemplateLibrary \n",
    "import pandas as pd\n",
    "import itertools\n",
    "import os\n",
    "import timeit"
   ]
  },
  {
   "cell_type": "code",
   "execution_count": null,
   "id": "0e142e96",
   "metadata": {},
   "outputs": [],
   "source": [
    "# Insert the baseline template\n",
    "template_directory = r\"Local Directory\\Baseline Template\"\n",
    "template = UmiTemplateLibrary.open(os.path.join(template_directory, \"baseline_template.json\"))"
   ]
  },
  {
   "cell_type": "markdown",
   "id": "dcfb91ba",
   "metadata": {},
   "source": [
    "# Creating Scenarios"
   ]
  },
  {
   "cell_type": "markdown",
   "id": "5265854e",
   "metadata": {},
   "source": [
    "Selected parameters after Sensitivity-1:"
   ]
  },
  {
   "cell_type": "code",
   "execution_count": null,
   "id": "a9eae870",
   "metadata": {},
   "outputs": [],
   "source": [
    "selected_params = [\n",
    "    'dhw_flow_rate',\n",
    "    'equipment_density',\n",
    "    'heating_set_point',\n",
    "    'infiltration',\n",
    "    'lighting_density',\n",
    "]"
   ]
  },
  {
   "cell_type": "code",
   "execution_count": null,
   "id": "c1491edd",
   "metadata": {},
   "outputs": [],
   "source": [
    "# Define parameter values\n",
    "dhw_flow_rates = [7.09E-05, 2.30E-04, 3.90E-04, 5.49E-04, 7.09E-04]\n",
    "eqp_densities = [5, 6.25, 7.5, 8.75, 10]\n",
    "heating_degrees = [20, 20.75, 21.5, 22.25, 23]\n",
    "infiltration_values = [0.1, 0.2, 0.3, 0.4, 0.5]\n",
    "lighting_densities = [3, 4.5, 6, 7.5, 9]\n",
    "\n",
    "# Generate all possible combinations of parameter values\n",
    "combinations = list(\n",
    "    itertools.product(\n",
    "        dhw_flow_rates,\n",
    "        eqp_densities,\n",
    "        heating_degrees,\n",
    "        infiltration_values,\n",
    "        lighting_densities,\n",
    "    )\n",
    ")\n",
    "\n",
    "print(\"Number of scenarios:\", len(combinations))"
   ]
  },
  {
   "cell_type": "code",
   "execution_count": null,
   "id": "eed6c052",
   "metadata": {},
   "outputs": [],
   "source": []
  },
  {
   "cell_type": "code",
   "execution_count": null,
   "id": "89c4d4e9",
   "metadata": {},
   "outputs": [],
   "source": [
    "# Specify the directory to save the new templates\n",
    "output_directory = r'Local Directory\\Optimization Scenarios'\n",
    "\n",
    "start = timeit.default_timer()\n",
    "\n",
    "# Assign parameter values to the template for each combination\n",
    "for combo in combinations:\n",
    "    new_template = template\n",
    "\n",
    "    # Assign values from the combination to the template\n",
    "    new_template[\"DomesticHotWaterSettings\"][1][\"FlowRatePerFloorArea\"] = combo[0]\n",
    "    new_template[\"ZoneLoads\"][1][\"EquipmentPowerDensity\"] = combo[1]\n",
    "    new_template[\"ZoneConditionings\"][1][\"HeatingSetpoint\"] = combo[2]\n",
    "    new_template[\"VentilationSettings\"][1][\"Infiltration\"] = combo[3]\n",
    "    new_template[\"ZoneLoads\"][1][\"LightingPowerDensity\"] = combo[4]\n",
    "    \n",
    "    # Create a new template and save it to the specified directory\n",
    "    new_template.to_json(os.path.join(output_directory, f\"S{count}.json\"), indent=4)\n",
    "    \n",
    "stop = timeit.default_timer()\n",
    "run_time = stop - start\n",
    "print(f\"Total run time (sec): {run_time:.1f}\")"
   ]
  },
  {
   "cell_type": "code",
   "execution_count": null,
   "id": "b7ff244d",
   "metadata": {},
   "outputs": [],
   "source": [
    "# Create a data frame for scenarios\n",
    "scenarios = [f\"S{i+1}\" for i in range(len(combinations))]\n",
    "scenario_df = pd.DataFrame(\n",
    "    combinations, \n",
    "    columns=[\n",
    "        'dhw_flow_rate',\n",
    "        'equipment_density',\n",
    "        'heating_set_point',\n",
    "        'infiltration',\n",
    "        'lighting_density',\n",
    "    ],\n",
    ")\n",
    "scenario_df.insert(0, \"Scenario\", scenarios)\n",
    "scenario_df.head()"
   ]
  },
  {
   "cell_type": "code",
   "execution_count": null,
   "id": "d3dbc84e",
   "metadata": {},
   "outputs": [],
   "source": [
    "# Save results to a CSV file\n",
    "save_directory = r'Local Directory\\Create Scenarios'\n",
    "scenario_df.to_csv(os.path.join(save_directory, \"optimization_scenarios.csv\"))"
   ]
  },
  {
   "cell_type": "markdown",
   "id": "852c10d4",
   "metadata": {},
   "source": [
    "# END"
   ]
  }
 ],
 "metadata": {
  "kernelspec": {
   "display_name": "Python 3 (ipykernel)",
   "language": "python",
   "name": "python3"
  },
  "language_info": {
   "codemirror_mode": {
    "name": "ipython",
    "version": 3
   },
   "file_extension": ".py",
   "mimetype": "text/x-python",
   "name": "python",
   "nbconvert_exporter": "python",
   "pygments_lexer": "ipython3",
   "version": "3.7.16"
  }
 },
 "nbformat": 4,
 "nbformat_minor": 5
}
